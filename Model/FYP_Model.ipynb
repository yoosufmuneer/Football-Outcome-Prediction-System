{
  "nbformat": 4,
  "nbformat_minor": 0,
  "metadata": {
    "colab": {
      "name": "FYP_Model.ipynb",
      "provenance": [],
      "collapsed_sections": [],
      "toc_visible": true
    },
    "kernelspec": {
      "name": "python3",
      "display_name": "Python 3"
    },
    "language_info": {
      "name": "python"
    }
  },
  "cells": [
    {
      "cell_type": "code",
      "metadata": {
        "id": "D5q2kjF49V9U"
      },
      "source": [
        "# Import the necessary libraries.\n",
        "import pandas as pd\n",
        "import numpy as np\n",
        "import xgboost as xgb\n",
        "from sklearn.linear_model import LogisticRegression\n",
        "from sklearn.ensemble import RandomForestClassifier\n",
        "from sklearn.svm import SVC\n",
        "from IPython.display import display\n",
        "\n",
        "%matplotlib inline"
      ],
      "execution_count": 90,
      "outputs": []
    },
    {
      "cell_type": "code",
      "metadata": {
        "colab": {
          "base_uri": "https://localhost:8080/"
        },
        "id": "X92KEBzO9tIa",
        "outputId": "7b13bce1-aef1-4807-ebfb-9c1906df253e"
      },
      "source": [
        "from google.colab import drive\n",
        "drive.mount('/content/drive')"
      ],
      "execution_count": 144,
      "outputs": [
        {
          "output_type": "stream",
          "text": [
            "Drive already mounted at /content/drive; to attempt to forcibly remount, call drive.mount(\"/content/drive\", force_remount=True).\n"
          ],
          "name": "stdout"
        }
      ]
    },
    {
      "cell_type": "code",
      "metadata": {
        "id": "N_IybW-o91Na"
      },
      "source": [
        "# Read football stats dataset from CSV File\n",
        "football_ds = pd.read_csv('/content/drive/My Drive/EPLDataset.csv')\n",
        "\n",
        "# Remove inital matchweeks to adjust for early weeks\n",
        "football_ds = football_ds[football_ds.MW > 3]\n"
      ],
      "execution_count": 145,
      "outputs": []
    },
    {
      "cell_type": "code",
      "metadata": {
        "colab": {
          "base_uri": "https://localhost:8080/"
        },
        "id": "b73mm0cetia8",
        "outputId": "3ca4c5a2-9129-4b37-d2d0-77dba296898b"
      },
      "source": [
        "all_labels = football_ds['FTR']\n",
        "\n",
        "football_ds = football_ds[['HTP','ATP','Attendance','HM1','HM2','HM3','AM1','AM2','AM3' ,'DiffFormPts']]\n",
        "\n",
        "# Preview attendance.\n",
        "print(football_ds)"
      ],
      "execution_count": 129,
      "outputs": [
        {
          "output_type": "stream",
          "text": [
            "          HTP       ATP  Attendance HM1 HM2 HM3 AM1 AM2 AM3  DiffFormPts\n",
            "30   0.750000  0.750000       30526   L   W   L   W   L   L     0.000000\n",
            "31   2.250000  1.750000       40178   W   W   W   D   W   W     0.500000\n",
            "32   0.750000  0.250000       25495   L   L   W   L   L   D     0.500000\n",
            "33   1.250000  0.250000       38767   D   W   D   D   L   L     1.000000\n",
            "34   1.500000  2.250000       32149   W   W   L   W   W   W    -0.750000\n",
            "..        ...       ...         ...  ..  ..  ..  ..  ..  ..          ...\n",
            "375  2.473684  1.500000       53331   W   W   W   W   W   W     0.131579\n",
            "376  1.736842  0.815789       74457   D   D   L   L   L   L     0.052632\n",
            "377  1.000000  0.394737       30367   L   D   D   D   L   L     0.105263\n",
            "378  1.842105  1.394737       60124   L   L   W   W   D   W    -0.105263\n",
            "379  1.315789  1.289474       20067   L   L   D   W   W   D    -0.078947\n",
            "\n",
            "[350 rows x 10 columns]\n"
          ],
          "name": "stdout"
        }
      ]
    },
    {
      "cell_type": "code",
      "metadata": {
        "colab": {
          "base_uri": "https://localhost:8080/"
        },
        "id": "BJSL6NEf28tu",
        "outputId": "ba06e789-f6ea-4719-ceb3-00ada7ae04ff"
      },
      "source": [
        "all_labels"
      ],
      "execution_count": 130,
      "outputs": [
        {
          "output_type": "execute_result",
          "data": {
            "text/plain": [
              "30     D\n",
              "31     H\n",
              "32     A\n",
              "33     D\n",
              "34     A\n",
              "      ..\n",
              "375    H\n",
              "376    A\n",
              "377    D\n",
              "378    D\n",
              "379    A\n",
              "Name: FTR, Length: 350, dtype: object"
            ]
          },
          "metadata": {
            "tags": []
          },
          "execution_count": 130
        }
      ]
    },
    {
      "cell_type": "code",
      "metadata": {
        "colab": {
          "base_uri": "https://localhost:8080/"
        },
        "id": "qZXCjgLRuNBr",
        "outputId": "693343fe-2df7-4e3c-aa31-c5d4cd3bbde7"
      },
      "source": [
        "# Get the total # of matches.\n",
        "total_matches = football_ds.shape[0]\n",
        "\n",
        "#Get the total wins by away team\n",
        "total_awayw = len(all_labels[all_labels == 'A'])\n",
        "total_homew = len(all_labels[all_labels == 'H'])\n",
        "total_draws = len(all_labels[all_labels == 'D'])\n",
        "\n",
        "# Get the aggregate of Games by team type\n",
        "print(f'Aggregate No. of Games: {total_matches}')\n",
        "print(f'Aggregate No. of Games Won By Away Teams: {total_awayw}')\n",
        "print(f'Aggregate No. of Games Won By Home Teams: {total_homew}')\n",
        "print(f'Aggregate No. of Games Ended in Draw: {total_draws}')\n"
      ],
      "execution_count": 131,
      "outputs": [
        {
          "output_type": "stream",
          "text": [
            "Aggregate No. of Games: 350\n",
            "Aggregate No. of Games Won By Away Teams: 118\n",
            "Aggregate No. of Games Won By Home Teams: 167\n",
            "Aggregate No. of Games Ended in Draw: 65\n"
          ],
          "name": "stdout"
        }
      ]
    },
    {
      "cell_type": "code",
      "metadata": {
        "id": "lukTrbxluf3Y"
      },
      "source": [
        "#Feature scaling some of the data\n",
        "from sklearn.preprocessing import scale\n",
        "\n",
        "required_columns = [['HTP','ATP']]\n",
        "for j in required_columns:\n",
        "    all_features[j] = scale(all_features[j])"
      ],
      "execution_count": 133,
      "outputs": []
    },
    {
      "cell_type": "code",
      "metadata": {
        "id": "Qn2m0zxiutUN"
      },
      "source": [
        "#Change Type To String\n",
        "football_ds.HM1 = football_ds.HM1.astype('str')\n",
        "football_ds.HM2 = football_ds.HM2.astype('str')\n",
        "football_ds.HM3 = football_ds.HM3.astype('str')\n",
        "football_ds.AM1 = football_ds.AM1.astype('str')\n",
        "football_ds.AM2 = football_ds.AM2.astype('str')\n",
        "football_ds.AM3 = football_ds.AM3.astype('str')\n",
        "\n",
        "\n",
        "#Method to change cat vars to dummy vars\n",
        "def convert_cat_dummy(input):\n",
        "    \n",
        "    # Initialize new output DataFrame\n",
        "    result_df = pd.DataFrame(index = input.index)\n",
        "\n",
        "    # Iterate through every column\n",
        "    for clmn, clmn_info in input.iteritems():\n",
        "\n",
        "        # If data type is categorical, convert to dummy variables\n",
        "        if clmn_info.dtype == object:\n",
        "            clmn_info = pd.get_dummies(clmn_info, prefix = clmn)\n",
        "                    \n",
        "        # Collect the revised columns\n",
        "        result_df = result_df.join(clmn_info)\n",
        "    \n",
        "    return result_df\n",
        "\n",
        "football_ds = convert_cat_dummy(football_ds)\n"
      ],
      "execution_count": 134,
      "outputs": []
    },
    {
      "cell_type": "code",
      "metadata": {
        "colab": {
          "base_uri": "https://localhost:8080/"
        },
        "id": "7ObyRS7EvQx_",
        "outputId": "90d02afc-a4af-410f-c801-fda65a97ed76"
      },
      "source": [
        "print (f'Features {len(football_ds.columns)}')\n",
        "print(f'Total Features: {list(football_ds.columns)}')"
      ],
      "execution_count": 135,
      "outputs": [
        {
          "output_type": "stream",
          "text": [
            "Features 22\n",
            "Total Features: ['HTP', 'ATP', 'Attendance', 'HM1_D', 'HM1_L', 'HM1_W', 'HM2_D', 'HM2_L', 'HM2_W', 'HM3_D', 'HM3_L', 'HM3_W', 'AM1_D', 'AM1_L', 'AM1_W', 'AM2_D', 'AM2_L', 'AM2_W', 'AM3_D', 'AM3_L', 'AM3_W', 'DiffFormPts']\n"
          ],
          "name": "stdout"
        }
      ]
    },
    {
      "cell_type": "code",
      "metadata": {
        "colab": {
          "base_uri": "https://localhost:8080/",
          "height": 215
        },
        "id": "6gz4gYYCvTxT",
        "outputId": "5cede456-716f-4df2-8cba-2750658c3e9c"
      },
      "source": [
        "# Display the first few rows in the data\n",
        "football_ds.head()"
      ],
      "execution_count": 136,
      "outputs": [
        {
          "output_type": "execute_result",
          "data": {
            "text/html": [
              "<div>\n",
              "<style scoped>\n",
              "    .dataframe tbody tr th:only-of-type {\n",
              "        vertical-align: middle;\n",
              "    }\n",
              "\n",
              "    .dataframe tbody tr th {\n",
              "        vertical-align: top;\n",
              "    }\n",
              "\n",
              "    .dataframe thead th {\n",
              "        text-align: right;\n",
              "    }\n",
              "</style>\n",
              "<table border=\"1\" class=\"dataframe\">\n",
              "  <thead>\n",
              "    <tr style=\"text-align: right;\">\n",
              "      <th></th>\n",
              "      <th>HTP</th>\n",
              "      <th>ATP</th>\n",
              "      <th>Attendance</th>\n",
              "      <th>HM1_D</th>\n",
              "      <th>HM1_L</th>\n",
              "      <th>HM1_W</th>\n",
              "      <th>HM2_D</th>\n",
              "      <th>HM2_L</th>\n",
              "      <th>HM2_W</th>\n",
              "      <th>HM3_D</th>\n",
              "      <th>HM3_L</th>\n",
              "      <th>HM3_W</th>\n",
              "      <th>AM1_D</th>\n",
              "      <th>AM1_L</th>\n",
              "      <th>AM1_W</th>\n",
              "      <th>AM2_D</th>\n",
              "      <th>AM2_L</th>\n",
              "      <th>AM2_W</th>\n",
              "      <th>AM3_D</th>\n",
              "      <th>AM3_L</th>\n",
              "      <th>AM3_W</th>\n",
              "      <th>DiffFormPts</th>\n",
              "    </tr>\n",
              "  </thead>\n",
              "  <tbody>\n",
              "    <tr>\n",
              "      <th>30</th>\n",
              "      <td>0.75</td>\n",
              "      <td>0.75</td>\n",
              "      <td>30526</td>\n",
              "      <td>0</td>\n",
              "      <td>1</td>\n",
              "      <td>0</td>\n",
              "      <td>0</td>\n",
              "      <td>0</td>\n",
              "      <td>1</td>\n",
              "      <td>0</td>\n",
              "      <td>1</td>\n",
              "      <td>0</td>\n",
              "      <td>0</td>\n",
              "      <td>0</td>\n",
              "      <td>1</td>\n",
              "      <td>0</td>\n",
              "      <td>1</td>\n",
              "      <td>0</td>\n",
              "      <td>0</td>\n",
              "      <td>1</td>\n",
              "      <td>0</td>\n",
              "      <td>0.00</td>\n",
              "    </tr>\n",
              "    <tr>\n",
              "      <th>31</th>\n",
              "      <td>2.25</td>\n",
              "      <td>1.75</td>\n",
              "      <td>40178</td>\n",
              "      <td>0</td>\n",
              "      <td>0</td>\n",
              "      <td>1</td>\n",
              "      <td>0</td>\n",
              "      <td>0</td>\n",
              "      <td>1</td>\n",
              "      <td>0</td>\n",
              "      <td>0</td>\n",
              "      <td>1</td>\n",
              "      <td>1</td>\n",
              "      <td>0</td>\n",
              "      <td>0</td>\n",
              "      <td>0</td>\n",
              "      <td>0</td>\n",
              "      <td>1</td>\n",
              "      <td>0</td>\n",
              "      <td>0</td>\n",
              "      <td>1</td>\n",
              "      <td>0.50</td>\n",
              "    </tr>\n",
              "    <tr>\n",
              "      <th>32</th>\n",
              "      <td>0.75</td>\n",
              "      <td>0.25</td>\n",
              "      <td>25495</td>\n",
              "      <td>0</td>\n",
              "      <td>1</td>\n",
              "      <td>0</td>\n",
              "      <td>0</td>\n",
              "      <td>1</td>\n",
              "      <td>0</td>\n",
              "      <td>0</td>\n",
              "      <td>0</td>\n",
              "      <td>1</td>\n",
              "      <td>0</td>\n",
              "      <td>1</td>\n",
              "      <td>0</td>\n",
              "      <td>0</td>\n",
              "      <td>1</td>\n",
              "      <td>0</td>\n",
              "      <td>1</td>\n",
              "      <td>0</td>\n",
              "      <td>0</td>\n",
              "      <td>0.50</td>\n",
              "    </tr>\n",
              "    <tr>\n",
              "      <th>33</th>\n",
              "      <td>1.25</td>\n",
              "      <td>0.25</td>\n",
              "      <td>38767</td>\n",
              "      <td>1</td>\n",
              "      <td>0</td>\n",
              "      <td>0</td>\n",
              "      <td>0</td>\n",
              "      <td>0</td>\n",
              "      <td>1</td>\n",
              "      <td>1</td>\n",
              "      <td>0</td>\n",
              "      <td>0</td>\n",
              "      <td>1</td>\n",
              "      <td>0</td>\n",
              "      <td>0</td>\n",
              "      <td>0</td>\n",
              "      <td>1</td>\n",
              "      <td>0</td>\n",
              "      <td>0</td>\n",
              "      <td>1</td>\n",
              "      <td>0</td>\n",
              "      <td>1.00</td>\n",
              "    </tr>\n",
              "    <tr>\n",
              "      <th>34</th>\n",
              "      <td>1.50</td>\n",
              "      <td>2.25</td>\n",
              "      <td>32149</td>\n",
              "      <td>0</td>\n",
              "      <td>0</td>\n",
              "      <td>1</td>\n",
              "      <td>0</td>\n",
              "      <td>0</td>\n",
              "      <td>1</td>\n",
              "      <td>0</td>\n",
              "      <td>1</td>\n",
              "      <td>0</td>\n",
              "      <td>0</td>\n",
              "      <td>0</td>\n",
              "      <td>1</td>\n",
              "      <td>0</td>\n",
              "      <td>0</td>\n",
              "      <td>1</td>\n",
              "      <td>0</td>\n",
              "      <td>0</td>\n",
              "      <td>1</td>\n",
              "      <td>-0.75</td>\n",
              "    </tr>\n",
              "  </tbody>\n",
              "</table>\n",
              "</div>"
            ],
            "text/plain": [
              "     HTP   ATP  Attendance  HM1_D  ...  AM3_D  AM3_L  AM3_W  DiffFormPts\n",
              "30  0.75  0.75       30526      0  ...      0      1      0         0.00\n",
              "31  2.25  1.75       40178      0  ...      0      0      1         0.50\n",
              "32  0.75  0.25       25495      0  ...      1      0      0         0.50\n",
              "33  1.25  0.25       38767      1  ...      0      1      0         1.00\n",
              "34  1.50  2.25       32149      0  ...      0      0      1        -0.75\n",
              "\n",
              "[5 rows x 22 columns]"
            ]
          },
          "metadata": {
            "tags": []
          },
          "execution_count": 136
        }
      ]
    },
    {
      "cell_type": "code",
      "metadata": {
        "id": "bXWG1ESWvfEL"
      },
      "source": [
        "from sklearn.model_selection import train_test_split\n",
        "\n",
        "#Divide the data in 80/20 way to decide the split\n",
        "train_feat, test_feat, train_lbl, test_lbl = train_test_split(football_ds, all_labels, \n",
        "                                                    train_size = 0.80,\n",
        "                                                    random_state = 3,\n",
        "                                                    stratify = all_labels)"
      ],
      "execution_count": 137,
      "outputs": []
    },
    {
      "cell_type": "code",
      "metadata": {
        "id": "gC9DZMggwoP_"
      },
      "source": [
        "# Training and Evaluating Models\n",
        "\n",
        "from sklearn.metrics import f1_score\n",
        "from sklearn.metrics import accuracy_score\n",
        "from sklearn.metrics import precision_score\n",
        "\n",
        "def predict_outcomes(csf, train_feat, train_lbl, test_feat, test_lbl):\n",
        "    print(\"Training & Predicting Outcomes\")    \n",
        "    #Print the name of the classifier\n",
        "    print (f'Predicting using {csf.__class__.__name__} algorithm')\n",
        "    \n",
        "    # Train the classifier\n",
        "    print(\"Training the ml model\")\n",
        "    csf.fit(train_feat, train_lbl)\n",
        "    print(\"Finished training the ml model\")\n",
        "\n",
        "    # Print the results of prediction for both training and testing\n",
        "    print(\"Predicting outcomes\")\n",
        "    y_pred = csf.predict(train_feat)\n",
        "    accSc = accuracy_score(train_lbl,y_pred)* 100\n",
        "    print(\"The Train Accuracy Score is:\",accSc)\n",
        "    f1Sc = f1_score(train_lbl, y_pred,average='macro')* 100\n",
        "    print(\"The Training F1 Score is:\",f1Sc)\n",
        "\n",
        "    #Get Accuracy & F1 Score for Testing Set\n",
        "    predictedTestLabel = csf.predict(test_feat)\n",
        "    testAccSc = accuracy_score(test_lbl,predictedTestLabel)*100\n",
        "    print(\"The Test Accuracy Score is:\",testAccSc)\n",
        "\n",
        "    precisionSc = precision_score(test_lbl,predictedTestLabel,average='macro')*100\n",
        "    print(\"The Test Precision Score is:\",precisionSc)\n",
        "\n",
        "    testf1Sc = f1_score(test_lbl, predictedTestLabel,average='macro')* 100\n",
        "    print(\"The Test F1 Score is:\",testf1Sc)\n"
      ],
      "execution_count": 138,
      "outputs": []
    },
    {
      "cell_type": "code",
      "metadata": {
        "colab": {
          "base_uri": "https://localhost:8080/"
        },
        "id": "Ymcg0t5lww6N",
        "outputId": "fa3442ae-9353-49ce-d56a-ff8fd3f33543"
      },
      "source": [
        "#Import classifiers \n",
        "from sklearn import tree\n",
        "from sklearn.neighbors import NearestCentroid\n",
        "from sklearn.ensemble import RandomForestClassifier\n",
        "from sklearn.model_selection import cross_val_score\n",
        "from sklearn.neighbors import KNeighborsClassifier\n",
        "from sklearn.ensemble import VotingClassifier\n",
        "#Set up classifiers\n",
        "csf_xgb = xgb.XGBClassifier(seed = 64)\n",
        "csf_lr = LogisticRegression(random_state =12,multi_class='ovr')\n",
        "csf_svm = SVC(random_state = 234, kernel='rbf')\n",
        "csf_nc = NearestCentroid()\n",
        "csf_rf = RandomForestClassifier()\n",
        "csf_knn = KNeighborsClassifier(n_neighbors=4)\n",
        "csf_vc = VotingClassifier(estimators=[('lr', csf_lr), ('rf', csf_rf), ('svm', csf_svm)], voting='hard')\n",
        "\n",
        "\n",
        "predict_outcomes(csf_rf,train_feat,train_lbl,test_feat, test_lbl)\n",
        "print ('   ')\n",
        "predict_outcomes(csf_xgb,train_feat,train_lbl,test_feat, test_lbl)\n",
        "print ('   ')\n",
        "predict_outcomes(csf_lr,train_feat,train_lbl,test_feat, test_lbl)\n",
        "print ('   ')\n",
        "predict_outcomes(csf_svm,train_feat,train_lbl,test_feat, test_lbl)\n",
        "print ('   ')\n",
        "predict_outcomes(csf_nc,train_feat,train_lbl,test_feat, test_lbl)\n",
        "print ('   ')\n",
        "predict_outcomes(csf_knn,train_feat,train_lbl,test_feat, test_lbl)\n",
        "print ('   ')\n",
        "predict_outcomes(csf_vc,train_feat,train_lbl,test_feat, test_lbl)\n",
        "print ('   ')"
      ],
      "execution_count": 143,
      "outputs": [
        {
          "output_type": "stream",
          "text": [
            "Training & Predicting Outcomes\n",
            "Predicting using RandomForestClassifier algorithm\n",
            "Training the ml model\n",
            "Finished training the ml model\n",
            "Predicting outcomes\n",
            "The Train Accuracy Score is: 100.0\n",
            "The Training F1 Score is: 100.0\n",
            "The Test Accuracy Score is: 60.0\n",
            "The Test Precision Score is: 56.744956338452276\n",
            "The Test F1 Score is: 47.88199964670554\n",
            "   \n",
            "Training & Predicting Outcomes\n",
            "Predicting using XGBClassifier algorithm\n",
            "Training the ml model\n",
            "Finished training the ml model\n",
            "Predicting outcomes\n",
            "The Train Accuracy Score is: 89.64285714285715\n",
            "The Training F1 Score is: 88.64617471409458\n",
            "The Test Accuracy Score is: 50.0\n",
            "The Test Precision Score is: 40.71428571428572\n",
            "The Test F1 Score is: 41.191553544494724\n",
            "   \n",
            "Training & Predicting Outcomes\n",
            "Predicting using LogisticRegression algorithm\n",
            "Training the ml model\n",
            "Finished training the ml model\n",
            "Predicting outcomes\n",
            "The Train Accuracy Score is: 57.14285714285714\n",
            "The Training F1 Score is: 40.677851555240174\n",
            "The Test Accuracy Score is: 54.285714285714285\n",
            "The Test Precision Score is: 35.831020659882824\n",
            "The Test F1 Score is: 38.687943262411345\n",
            "   \n",
            "Training & Predicting Outcomes\n",
            "Predicting using SVC algorithm\n",
            "Training the ml model\n",
            "Finished training the ml model\n",
            "Predicting outcomes\n",
            "The Train Accuracy Score is: 55.00000000000001\n",
            "The Training F1 Score is: 40.36078528724219\n",
            "The Test Accuracy Score is: 51.42857142857142\n",
            "The Test Precision Score is: 35.0\n",
            "The Test F1 Score is: 37.797619047619044\n",
            "   \n",
            "Training & Predicting Outcomes\n",
            "Predicting using NearestCentroid algorithm\n",
            "Training the ml model\n",
            "Finished training the ml model\n",
            "Predicting outcomes\n"
          ],
          "name": "stdout"
        },
        {
          "output_type": "stream",
          "text": [
            "/usr/local/lib/python3.7/dist-packages/sklearn/metrics/_classification.py:1272: UndefinedMetricWarning: Precision is ill-defined and being set to 0.0 in labels with no predicted samples. Use `zero_division` parameter to control this behavior.\n",
            "  _warn_prf(average, modifier, msg_start, len(result))\n",
            "/usr/local/lib/python3.7/dist-packages/sklearn/metrics/_classification.py:1272: UndefinedMetricWarning: Precision is ill-defined and being set to 0.0 in labels with no predicted samples. Use `zero_division` parameter to control this behavior.\n",
            "  _warn_prf(average, modifier, msg_start, len(result))\n"
          ],
          "name": "stderr"
        },
        {
          "output_type": "stream",
          "text": [
            "The Train Accuracy Score is: 53.57142857142857\n",
            "The Training F1 Score is: 43.46420689416877\n",
            "The Test Accuracy Score is: 47.14285714285714\n",
            "The Test Precision Score is: 35.0\n",
            "The Test F1 Score is: 35.99137931034483\n",
            "   \n",
            "Training & Predicting Outcomes\n",
            "Predicting using KNeighborsClassifier algorithm\n",
            "Training the ml model\n",
            "Finished training the ml model\n",
            "Predicting outcomes\n",
            "The Train Accuracy Score is: 66.07142857142857\n",
            "The Training F1 Score is: 64.64828707819362\n",
            "The Test Accuracy Score is: 50.0\n",
            "The Test Precision Score is: 43.136223344556676\n",
            "The Test F1 Score is: 43.343388637506294\n",
            "   \n",
            "Training & Predicting Outcomes\n",
            "Predicting using VotingClassifier algorithm\n",
            "Training the ml model\n",
            "Finished training the ml model\n",
            "Predicting outcomes\n",
            "The Train Accuracy Score is: 65.71428571428571\n",
            "The Training F1 Score is: 47.74410774410775\n",
            "The Test Accuracy Score is: 57.14285714285714\n",
            "The Test Precision Score is: 37.89836347975883\n",
            "The Test F1 Score is: 41.53766769865842\n",
            "   \n"
          ],
          "name": "stdout"
        },
        {
          "output_type": "stream",
          "text": [
            "/usr/local/lib/python3.7/dist-packages/sklearn/metrics/_classification.py:1272: UndefinedMetricWarning: Precision is ill-defined and being set to 0.0 in labels with no predicted samples. Use `zero_division` parameter to control this behavior.\n",
            "  _warn_prf(average, modifier, msg_start, len(result))\n"
          ],
          "name": "stderr"
        }
      ]
    },
    {
      "cell_type": "code",
      "metadata": {
        "id": "Ca7Cfh7V8NSl"
      },
      "source": [
        "import pickle"
      ],
      "execution_count": 125,
      "outputs": []
    },
    {
      "cell_type": "code",
      "metadata": {
        "id": "KtlPKebr8O-g"
      },
      "source": [
        "with open('fypmodelrf', 'wb') as f:\n",
        "  pickle.dump(csf_rf, f)"
      ],
      "execution_count": 127,
      "outputs": []
    }
  ]
}